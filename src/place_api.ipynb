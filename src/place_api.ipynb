{
 "cells": [
  {
   "cell_type": "code",
   "execution_count": 73,
   "id": "e3b659f1-4682-40a2-8c44-f0865e7f6f72",
   "metadata": {},
   "outputs": [],
   "source": [
    "import pandas as pd\n",
    "import os\n",
    "import requests\n",
    "import numpy as np\n",
    "import matplotlib.pyplot as pp\n",
    "import sqlite3\n",
    "from sqlite3 import Error\n",
    "import matplotlib.pyplot as plt"
   ]
  },
  {
   "cell_type": "code",
   "execution_count": 4,
   "id": "81bf76ed-64ba-492d-97aa-208e5bd5c3bf",
   "metadata": {},
   "outputs": [],
   "source": [
    "#set the keys\n",
    "foursquare_api_key = os.environ[\"FOURSQUARE_API_KEY\"]\n",
    "yelp_client_id = os.environ[\"YELP_CLIENT_ID\"]\n",
    "yelp_api_key = os.environ[\"YELP_API_KEY\"]\n",
    "google_api_key = os.environ[\"GOOGLE_API_KEY\"]"
   ]
  },
  {
   "cell_type": "code",
   "execution_count": 5,
   "id": "c4f6d49b-8ed2-43bd-b7d2-44007b0320d6",
   "metadata": {},
   "outputs": [],
   "source": [
    "# Parameters\n",
    "\n",
    "# Radius\n",
    "#radius = '1200' \n",
    "radius = '300'\n",
    "\n",
    "# Location: Calgary downtown\n",
    "#latitude = '51.045897' \n",
    "#longitude = '-114.071469' \n",
    "#ll = '51.045897,-114.071469'\n",
    "\n",
    "# latitude = '51.047240' \n",
    "# longitude = '-114.088753' \n",
    "# ll = '51.047240,-114.088753'\n",
    "\n",
    "# latitude = '51.050488' \n",
    "# longitude = '-114.079943' \n",
    "# ll = '51.050488,-114.079943'\n",
    "\n",
    "\n",
    "# latitude = '51.052825' \n",
    "# longitude = '-114.073763' \n",
    "# ll = '51.052825,-114.073763'\n",
    "\n",
    "\n",
    "# latitude = '51.050791' \n",
    "# longitude = '-114.073867' \n",
    "# ll = '51.050791,-114.073867'\n",
    "\n",
    "\n",
    "# latitude = '51.052770' \n",
    "# longitude = '-114.069533' \n",
    "# ll = '51.052770,-114.069533'\n",
    "\n",
    "\n",
    "# latitude = '51.049691' \n",
    "# longitude = '-114.069662' \n",
    "# ll = '51.049691,-114.069662'\n",
    "\n",
    "\n",
    "# latitude = '51.046335' \n",
    "# longitude = '-114.069877' \n",
    "# ll = '51.046335,-114.069877'\n",
    "\n",
    "\n",
    "# latitude = '51.050466' \n",
    "# longitude = '-114.062667' \n",
    "# ll = '51.050466,-114.062667'\n",
    "\n",
    "\n",
    "\n",
    "# latitude = '51.047906' \n",
    "# longitude = '-114.063096' \n",
    "# ll = '51.047906,-114.063096'\n",
    "\n",
    "\n",
    "# latitude = '51.045434' \n",
    "# longitude = '-114.063075' \n",
    "# ll = '51.045434,-114.063075'\n",
    "\n",
    "\n",
    "# latitude = '51.048864' \n",
    "# longitude = '-114.057410' \n",
    "# ll = '51.048864,-114.057410'\n",
    "\n",
    "\n",
    "# latitude = '51.046264' \n",
    "# longitude = '-114.057453' \n",
    "# ll = '51.046264,-114.057453'\n",
    "\n",
    "\n",
    "\n",
    "# latitude = '51.048358' \n",
    "# longitude = '-114.053290' \n",
    "# ll = '51.048358,-114.053290'\n",
    "\n",
    "\n",
    "# latitude = '51.046216' \n",
    "# longitude = '-114.053075' \n",
    "# ll = '51.046216,-114.053075'\n",
    "\n",
    "\n",
    "\n",
    "# latitude = '51.047130' \n",
    "# longitude = '-114.050157' \n",
    "# ll = '51.047130,-114.050157'\n",
    "\n",
    "\n",
    "# latitude = '51.045346' \n",
    "# longitude = '-114.050178' \n",
    "# ll = '51.045346,-114.050178'\n",
    "\n",
    "\n",
    "latitude = '51.045940' \n",
    "longitude = '-114.046777' \n",
    "ll = '51.045940,-114.046777'\n",
    "\n",
    "\n",
    "\n",
    "\n",
    "# Selected POIs \n",
    "# 1. Restaurant, 2. Bar\n",
    "categories = [{'foursquare':'13065', 'yelp': 'restaurants', 'google': 'restaurant', 'poi_system': 'restaurants'},\n",
    "              {'foursquare':'13003', 'yelp': 'bars', 'google': 'bars', 'poi_system': 'bars'},\n",
    "              {'foursquare':'18021', 'yelp': 'gyms', 'google': 'gyms', 'poi_system': 'gyms'},\n",
    "              {'foursquare':'19020', 'yelp': 'parking', 'google': 'parkings', 'poi_system': 'parking'},\n",
    "              {'foursquare':'15000', 'yelp': 'health', 'google': 'health', 'poi_system': 'health'},\n",
    "              {'foursquare':'17018', 'yelp': 'bookstores', 'google': 'book_stores', 'poi_system': 'bookstores'},\n",
    "              {'foursquare':'11045', 'yelp': 'banks', 'google': 'banks', 'poi_system': 'banks'},\n",
    "              {'foursquare':'19042', 'yelp': 'busstations', 'google': 'bus_stations', 'poi_system': 'busstations'},\n",
    "              {'foursquare':'13034', 'yelp': 'Cafes', 'google': 'cafes', 'poi_system': 'cafes'},\n",
    "              {'foursquare':'10024', 'yelp': 'Cinema', 'google': 'movie_theaters', 'poi_system': 'cinemas'}\n",
    "             ]\n",
    "\n",
    "# 10 POIs selected for comparasion\n",
    "# Restaurant\n",
    "# Bar\n",
    "# Gym\n",
    "# Parking\n",
    "# Health\n",
    "# Bookstore\n",
    "# Bank\n",
    "# Bus Station\n",
    "# Cafe\n",
    "# Cinema\n",
    "\n",
    "\n",
    "# (1) Compare searching critiria\n",
    "# (2) Compare number of column returned\n",
    "# (3) Compare the number of records\n",
    "# (4) Compare the usage from the programmer of view"
   ]
  },
  {
   "cell_type": "raw",
   "id": "59ada2b0-2c0f-4a65-a8db-260fee60a50f",
   "metadata": {},
   "source": []
  },
  {
   "cell_type": "code",
   "execution_count": null,
   "id": "731aa375-df95-4240-860e-fd351cb3e611",
   "metadata": {},
   "outputs": [],
   "source": []
  },
  {
   "cell_type": "code",
   "execution_count": null,
   "id": "cb0d0c89-3d4e-4b76-94ad-9ac779151cda",
   "metadata": {},
   "outputs": [],
   "source": []
  },
  {
   "cell_type": "markdown",
   "id": "3f9c6f19-4741-4d6d-882a-84df9bfcfc3a",
   "metadata": {},
   "source": [
    "## SQLite Database "
   ]
  },
  {
   "cell_type": "markdown",
   "id": "e68199d3-0842-4d40-b6f2-8a2ceb9a732a",
   "metadata": {
    "tags": []
   },
   "source": [
    "### Table1: poi_info\n",
    "\n",
    "api,\n",
    "poi_id,\n",
    "name,\n",
    "address,\n",
    "province,\n",
    "city,\n",
    "country,\n",
    "postcode,\n",
    "timezone,\n",
    "latitude,\n",
    "longitude,\n",
    "phone,\n",
    "fax,\n",
    "email,\n",
    "social_media,\n",
    "is_closed,\n",
    "url,\n",
    "image_url,\n",
    "review_count,\n",
    "rating,\n",
    "price,\n",
    "price_level,\n",
    "\n",
    "\n",
    "\n",
    "### Table2: poi_category\n",
    "\n",
    "api,\n",
    "poi_id,\n",
    "category,\n",
    "\n",
    "\n",
    "\n",
    "### Table3: poi_opening_hours\n",
    "\n",
    "api,\n",
    "poi_id,\n",
    "day,\n",
    "open_time,\n",
    "close_time,\n",
    "\n",
    "\n",
    "### Table4: poi_hours_popular\n",
    "\n",
    "api,\n",
    "poi_id,\n",
    "day,\n",
    "open_time,\n",
    "close_time,\n",
    "\n",
    "\n",
    "### Table5: poi_related_places\n",
    "\n",
    "api,\n",
    "poi_id,\n",
    "related_poi_id,\n",
    "name,\n",
    "\n",
    "\n",
    "### Table6: poi_reviews\n",
    "\n",
    "api,\n",
    "poi_id,\n",
    "author_name,\n",
    "rating,\n",
    "time,\n",
    "text\n",
    "\n",
    "\n"
   ]
  },
  {
   "cell_type": "code",
   "execution_count": 6,
   "id": "58dee189-9bcc-40bc-b17e-cbf6adc6cfb9",
   "metadata": {},
   "outputs": [],
   "source": [
    "def create_connection(path):\n",
    "    connection = None\n",
    "    try:\n",
    "        connection = sqlite3.connect(path)\n",
    "        print(\"Connection to SQLite DB successful\")\n",
    "    except Error as e:\n",
    "        print(f\"The error '{e}' occurred\")\n",
    "\n",
    "    return connection\n",
    "\n",
    "def execute_query(connection, query):\n",
    "    cursor = connection.cursor()\n",
    "    try:\n",
    "        cursor.execute(query)\n",
    "        connection.commit()\n",
    "        print(\"Query executed successfully\")\n",
    "    except Error as e:\n",
    "        print(f\"The error '{e}' occurred\")\n",
    "        \n",
    "def execute_read_query(connection, query):\n",
    "    cursor = connection.cursor()\n",
    "    result = None\n",
    "    try:\n",
    "        cursor.execute(query)\n",
    "        result = cursor.fetchall()\n",
    "        return result\n",
    "    except Error as e:\n",
    "        print(f\"The error '{e}' occurred\")"
   ]
  },
  {
   "cell_type": "code",
   "execution_count": 7,
   "id": "ef1b0980-5bfd-42b8-935e-af334692ec11",
   "metadata": {},
   "outputs": [
    {
     "name": "stdout",
     "output_type": "stream",
     "text": [
      "Connection to SQLite DB successful\n"
     ]
    }
   ],
   "source": [
    "connection = create_connection(\"place_api.sqlite\")"
   ]
  },
  {
   "cell_type": "markdown",
   "id": "f38e3419-a90f-45a9-a71e-8b59db7fb971",
   "metadata": {},
   "source": [
    "## Create the tables for the database"
   ]
  },
  {
   "cell_type": "code",
   "execution_count": 240,
   "id": "bd3b9a99-121a-4d94-a71e-32c08a7fab49",
   "metadata": {},
   "outputs": [
    {
     "name": "stdout",
     "output_type": "stream",
     "text": [
      "Query executed successfully\n",
      "Query executed successfully\n"
     ]
    }
   ],
   "source": [
    "# 1. CREATE poi_info table\n",
    "\n",
    "#drop_poi_info = \"DROP TABLE poi_info;\"\n",
    "#execute_query(connection, drop_poi_info)  \n",
    "\n",
    "create_poi_into_table = \"\"\"\n",
    "CREATE TABLE IF NOT EXISTS poi_info (\n",
    "    api TEXT NOT NULL,\n",
    "    poi_id TEXT NOT NULL,\n",
    "    name TEXT NOT NULL,\n",
    "    address TEXT,\n",
    "    province TEXT,\n",
    "    city TEXT,\n",
    "    country TEXT,\n",
    "    postcode TEXT,\n",
    "    timezone TEXT,\n",
    "    latitude REAL,\n",
    "    longitude REAL,\n",
    "    phone TEXT,\n",
    "    fax TEXT,\n",
    "    email TEXT,\n",
    "    social_media TEXT,\n",
    "    is_closed TEXT,\n",
    "    url TEXT,\n",
    "    image_url TEXT,\n",
    "    review_count INTEGER,\n",
    "    rating REAL,\n",
    "    price_level TEXT,\n",
    "    PRIMARY KEY (api, poi_id)\n",
    ");\n",
    "\"\"\"\n",
    "\n",
    "execute_query(connection, create_poi_into_table)  "
   ]
  },
  {
   "cell_type": "markdown",
   "id": "d04abdfa-c91c-4b29-aee3-fd337127b7c2",
   "metadata": {},
   "source": [
    "---------------"
   ]
  },
  {
   "cell_type": "code",
   "execution_count": 88,
   "id": "05b9d649-9306-41ce-84ed-141136b6eb68",
   "metadata": {},
   "outputs": [
    {
     "name": "stdout",
     "output_type": "stream",
     "text": [
      "Query executed successfully\n",
      "Query executed successfully\n"
     ]
    }
   ],
   "source": [
    "# 2. CREATE poi_category table\n",
    "\n",
    "#drop_poi_category = \"DROP TABLE poi_category;\"\n",
    "#execute_query(connection, drop_poi_category)  \n",
    "\n",
    "create_poi_category_table = \"\"\"\n",
    "CREATE TABLE IF NOT EXISTS poi_category (\n",
    "    api TEXT NOT NULL,\n",
    "    poi_id TEXT NOT NULL,\n",
    "    category TEXT NOT NULL ,\n",
    "    PRIMARY KEY (api, poi_id, category)\n",
    "    FOREIGN KEY (api, poi_id) REFERENCES poi_info(api, poi_id)\n",
    ");\n",
    "\"\"\"\n",
    "\n",
    "execute_query(connection, create_poi_category_table)  "
   ]
  },
  {
   "cell_type": "markdown",
   "id": "004f96a6-10ae-4e36-a557-3c633143aa74",
   "metadata": {},
   "source": [
    "---------------"
   ]
  },
  {
   "cell_type": "code",
   "execution_count": 89,
   "id": "846c9d6e-556a-4254-a826-4a7906c1f7df",
   "metadata": {},
   "outputs": [
    {
     "name": "stdout",
     "output_type": "stream",
     "text": [
      "Query executed successfully\n"
     ]
    }
   ],
   "source": [
    "# 3. CREATE poi_opening_hours table\n",
    "\n",
    "#drop_poi_opening_hours = \"DROP TABLE poi_opening_hours;\"\n",
    "#execute_query(connection, drop_poi_opening_hours)  \n",
    "\n",
    "create_poi_opening_hours_table = \"\"\"\n",
    "CREATE TABLE IF NOT EXISTS poi_opening_hours (\n",
    "    api TEXT NOT NULL,\n",
    "    poi_id TEXT NOT NULL,\n",
    "    day INTEGER NOT NULL,\n",
    "    open_time INTEGER,\n",
    "    close_time INTEGER,\n",
    "    PRIMARY KEY (api, poi_id, day)\n",
    "    FOREIGN KEY (api, poi_id) REFERENCES poi_info(api, poi_id)\n",
    ");\n",
    "\"\"\"\n",
    "\n",
    "execute_query(connection, create_poi_opening_hours_table)  "
   ]
  },
  {
   "cell_type": "markdown",
   "id": "cd62df8c-4f29-453a-9c10-a696265e91fc",
   "metadata": {},
   "source": [
    "---------------"
   ]
  },
  {
   "cell_type": "code",
   "execution_count": 90,
   "id": "82a18e07-dac7-49f9-ac50-000f00fe8dad",
   "metadata": {},
   "outputs": [
    {
     "name": "stdout",
     "output_type": "stream",
     "text": [
      "Query executed successfully\n"
     ]
    }
   ],
   "source": [
    "# 4. CREATE poi_hours_popular table\n",
    "\n",
    "#drop_poi_hours_popular = \"DROP TABLE poi_hours_popular;\"\n",
    "#execute_query(connection, drop_poi_hours_popular)  \n",
    "\n",
    "create_poi_hours_popular_table = \"\"\"\n",
    "CREATE TABLE IF NOT EXISTS poi_hours_popular (\n",
    "    api TEXT NOT NULL,\n",
    "    poi_id TEXT NOT NULL,\n",
    "    day INTEGER NOT NULL,\n",
    "    open_time INTEGER NOT NULL,\n",
    "    close_time INTEGER,\n",
    "    PRIMARY KEY (api, poi_id, day, open_time)\n",
    "    FOREIGN KEY (api, poi_id) REFERENCES poi_info(api, poi_id)\n",
    ");\n",
    "\"\"\"\n",
    "\n",
    "execute_query(connection, create_poi_hours_popular_table)  "
   ]
  },
  {
   "cell_type": "markdown",
   "id": "2e3286a8-7fa1-45df-b18b-81fcba4a6373",
   "metadata": {},
   "source": [
    "---------------"
   ]
  },
  {
   "cell_type": "code",
   "execution_count": 94,
   "id": "c531817a-8697-4d81-ab5c-c5ed45449474",
   "metadata": {},
   "outputs": [
    {
     "name": "stdout",
     "output_type": "stream",
     "text": [
      "Query executed successfully\n",
      "Query executed successfully\n"
     ]
    }
   ],
   "source": [
    "# 5. CREATE poi_related_places table\n",
    "\n",
    "#drop_poi_related_places = \"DROP TABLE poi_related_places;\"\n",
    "#execute_query(connection, drop_poi_related_places)  \n",
    "\n",
    "create_poi_related_places_table = \"\"\"\n",
    "CREATE TABLE IF NOT EXISTS poi_related_places (\n",
    "    api TEXT NOT NULL,\n",
    "    poi_id TEXT NOT NULL,\n",
    "    related_poi_id TEXT NOT NULL,\n",
    "    name TEXT,\n",
    "    PRIMARY KEY (api, poi_id, related_poi_id)\n",
    "    FOREIGN KEY (api, poi_id) REFERENCES poi_info(api, poi_id)\n",
    ");\n",
    "\"\"\"\n",
    "\n",
    "execute_query(connection, create_poi_related_places_table)  "
   ]
  },
  {
   "cell_type": "markdown",
   "id": "d49b8660-5851-4bb9-b72f-99986044855a",
   "metadata": {},
   "source": [
    "---------------"
   ]
  },
  {
   "cell_type": "code",
   "execution_count": 124,
   "id": "37768d5e-7134-41fb-a11c-acdb6e4b9050",
   "metadata": {},
   "outputs": [
    {
     "name": "stdout",
     "output_type": "stream",
     "text": [
      "Query executed successfully\n",
      "Query executed successfully\n"
     ]
    }
   ],
   "source": [
    "# 6. CREATE poi_reviews table\n",
    "\n",
    "#drop_poi_reviews = \"DROP TABLE poi_reviews;\"\n",
    "#execute_query(connection, drop_poi_reviews)  \n",
    "\n",
    "create_poi_reviews_table = \"\"\"\n",
    "CREATE TABLE IF NOT EXISTS poi_reviews (\n",
    "    api TEXT NOT NULL,\n",
    "    poi_id TEXT NOT NULL,\n",
    "    author_name TEXT,\n",
    "    rating REAL,\n",
    "    time TEXT,\n",
    "    text TEXT,\n",
    "    FOREIGN KEY (api, poi_id) REFERENCES poi_info(api, poi_id)\n",
    ");\n",
    "\"\"\"\n",
    "\n",
    "execute_query(connection, create_poi_reviews_table)  "
   ]
  },
  {
   "cell_type": "markdown",
   "id": "2664ebdd-cd0c-4c7e-8ebf-1bfea761ad25",
   "metadata": {},
   "source": [
    "---------------"
   ]
  },
  {
   "cell_type": "markdown",
   "id": "7c21a359-dd59-457f-b1cc-ad1895bfd186",
   "metadata": {},
   "source": [
    "## Functions to insert records"
   ]
  },
  {
   "cell_type": "code",
   "execution_count": 13,
   "id": "07a04b3b-b092-4b78-9d9e-bc7fae33fec7",
   "metadata": {},
   "outputs": [],
   "source": [
    "def insert_poi_info_reccord(connection, record):\n",
    "    insert_poi_info = \"\"\"\n",
    "    INSERT INTO\n",
    "        poi_info (api, poi_id, name, address, province, city, country, postcode, timezone, latitude, longitude, phone, fax, email, social_media, is_closed, url, image_url, review_count, rating, price_level)\n",
    "    VALUES\n",
    "        (?,?,?,?,?,?,?,?,?,?,?,?,?,?,?,?,?,?,?,?,?);\n",
    "    \"\"\"\n",
    "    \n",
    "    cursor = connection.cursor()\n",
    "    try:\n",
    "        cursor.execute(insert_poi_info, record)\n",
    "        connection.commit()\n",
    "        #print(\"Query executed successfully\")\n",
    "    except Error as e:\n",
    "        print(f\"The error '{e}' occurred\")\n",
    "    \n",
    "    #execute_query(connection, create_users)  "
   ]
  },
  {
   "cell_type": "code",
   "execution_count": null,
   "id": "dc667961-9d73-4da3-8dd3-b280da9d89d5",
   "metadata": {},
   "outputs": [],
   "source": [
    "#insert record testing\n",
    "#record =  ('foursquare', '001', 'test', 'address1', 'AB', 'Calgary', 'Canada', 'T3D1S9', 'Edmonton', 51.045897, -114.071469, '234233', '23423423', 'fads@fdfsd.com', 'facebook, twiter', 'False', 'http://testing.com', 'http://testing.com/pic.png', 1232, 3.8, 87.5, 3)\n",
    "#insert_poi_info_reccord(connection, record)"
   ]
  },
  {
   "cell_type": "markdown",
   "id": "976734b7-2560-4be3-bbe0-89eeb8b6df54",
   "metadata": {},
   "source": [
    "---------------"
   ]
  },
  {
   "cell_type": "code",
   "execution_count": 14,
   "id": "ee86a9d3-54a7-4bd6-90a0-10b55ea1bbe3",
   "metadata": {},
   "outputs": [],
   "source": [
    "def insert_poi_category_record(connection, record):\n",
    "    insert_poi_category = \"\"\"\n",
    "    INSERT INTO\n",
    "        poi_category (api, poi_id, category)\n",
    "    VALUES\n",
    "        (?,?,?);\n",
    "    \"\"\"\n",
    "    \n",
    "    cursor = connection.cursor()\n",
    "    try:\n",
    "        cursor.execute(insert_poi_category, record)\n",
    "        connection.commit()\n",
    "        #print(\"Query executed successfully\")\n",
    "    except Error as e:\n",
    "        print(f\"The error '{e}' occurred\")"
   ]
  },
  {
   "cell_type": "code",
   "execution_count": 110,
   "id": "5dd56732-8214-4667-91e0-1167a7c2cdc9",
   "metadata": {},
   "outputs": [],
   "source": [
    "#insert record testing\n",
    "# record =  ('foursquare', '001', 'restaurants')\n",
    "# insert_poi_category_record(connection, record)"
   ]
  },
  {
   "cell_type": "markdown",
   "id": "b698e57f-aa3b-4de5-8e87-1aa7c947e322",
   "metadata": {},
   "source": [
    "---------------"
   ]
  },
  {
   "cell_type": "code",
   "execution_count": 15,
   "id": "a62ae521-63cb-44cc-9484-b2ef0896fc59",
   "metadata": {},
   "outputs": [],
   "source": [
    "def insert_poi_opening_hours_record(connection, record):\n",
    "    insert_poi_opening_hours = \"\"\"\n",
    "    INSERT INTO\n",
    "        poi_opening_hours (api, poi_id, day, open_time, close_time)\n",
    "    VALUES\n",
    "        (?,?,?,?,?);\n",
    "    \"\"\"\n",
    "    \n",
    "    cursor = connection.cursor()\n",
    "    try:\n",
    "        cursor.execute(insert_poi_opening_hours, record)\n",
    "        connection.commit()\n",
    "        #print(\"Query executed successfully\")\n",
    "    except Error as e:\n",
    "        print(f\"The error '{e}' occurred\")"
   ]
  },
  {
   "cell_type": "code",
   "execution_count": 137,
   "id": "1418aaed-0ade-4e7d-b1c5-05501f995b32",
   "metadata": {},
   "outputs": [],
   "source": [
    "#insert record testing\n",
    "# record =  ('foursquare', '001', 1, 1000, 2100)\n",
    "# insert_poi_opening_hours_record(connection, record)"
   ]
  },
  {
   "cell_type": "markdown",
   "id": "36d2898f-6523-48ed-9d61-d6eee2cdbd13",
   "metadata": {},
   "source": [
    "---------------"
   ]
  },
  {
   "cell_type": "code",
   "execution_count": 16,
   "id": "3b0d1e16-ebd6-4d56-a469-c6741975b712",
   "metadata": {},
   "outputs": [],
   "source": [
    "def insert_poi_hours_popular_record(connection, record):\n",
    "    insert_poi_hours_popular = \"\"\"\n",
    "    INSERT INTO\n",
    "        poi_hours_popular (api, poi_id, day, open_time, close_time)\n",
    "    VALUES\n",
    "        (?,?,?,?,?);\n",
    "    \"\"\"\n",
    "    \n",
    "    cursor = connection.cursor()\n",
    "    try:\n",
    "        cursor.execute(insert_poi_hours_popular, record)\n",
    "        connection.commit()\n",
    "        #print(\"Query executed successfully\")\n",
    "    except Error as e:\n",
    "        print(f\"The error '{e}' occurred\")"
   ]
  },
  {
   "cell_type": "code",
   "execution_count": 136,
   "id": "99391578-10f4-49d9-b3c0-aa35d962542d",
   "metadata": {},
   "outputs": [],
   "source": [
    "#insert record testing\n",
    "# record =  ('foursquare', '001', 1, 1700, 2000)\n",
    "# insert_poi_hours_popular_record(connection, record)"
   ]
  },
  {
   "cell_type": "markdown",
   "id": "83da0b7c-e660-490d-ad10-b92ce52c04b4",
   "metadata": {},
   "source": [
    "---------------"
   ]
  },
  {
   "cell_type": "code",
   "execution_count": 17,
   "id": "08fe2db6-1ed1-47fc-81e8-fd330d6250bf",
   "metadata": {},
   "outputs": [],
   "source": [
    "def insert_poi_related_places_record(connection, record):\n",
    "    insert_poi_related_places = \"\"\"\n",
    "    INSERT INTO\n",
    "        poi_related_places (api, poi_id, related_poi_id, name)\n",
    "    VALUES\n",
    "        (?,?,?,?);\n",
    "    \"\"\"\n",
    "    \n",
    "    cursor = connection.cursor()\n",
    "    try:\n",
    "        cursor.execute(insert_poi_related_places, record)\n",
    "        connection.commit()\n",
    "        #print(\"Query executed successfully\")\n",
    "    except Error as e:\n",
    "        print(f\"The error '{e}' occurred\")"
   ]
  },
  {
   "cell_type": "code",
   "execution_count": 135,
   "id": "a6ad414e-301e-4587-90c0-525da92e6bb5",
   "metadata": {},
   "outputs": [],
   "source": [
    "#insert record testing\n",
    "# record =  ('foursquare', '001', '002', 'test2')\n",
    "# insert_poi_related_places_record(connection, record)"
   ]
  },
  {
   "cell_type": "markdown",
   "id": "05b19036-68bb-4067-b918-9765fec02200",
   "metadata": {},
   "source": [
    "---------------"
   ]
  },
  {
   "cell_type": "code",
   "execution_count": 18,
   "id": "35ef8cf6-c776-4821-b9cb-37c8d67b1873",
   "metadata": {},
   "outputs": [],
   "source": [
    "def insert_poi_reviews_record(connection, record):\n",
    "    insert_poi_reviews = \"\"\"\n",
    "    INSERT INTO\n",
    "        poi_reviews (api, poi_id, author_name, rating, time, text)\n",
    "    VALUES\n",
    "        (?,?,?,?,?,?);\n",
    "    \"\"\"\n",
    "    \n",
    "    cursor = connection.cursor()\n",
    "    try:\n",
    "        cursor.execute(insert_poi_reviews, record)\n",
    "        connection.commit()\n",
    "        #print(\"Query executed successfully\")\n",
    "    except Error as e:\n",
    "        print(f\"The error '{e}' occurred\")"
   ]
  },
  {
   "cell_type": "code",
   "execution_count": 134,
   "id": "b6f6340f-843e-4ae1-b37f-a334278e2c4c",
   "metadata": {},
   "outputs": [],
   "source": [
    "#insert record testing\n",
    "#record =  ('foursquare', '001', 'author1', 4.2, '18-01-2022 10:45', 'Good place')\n",
    "#insert_poi_reviews_record(connection, record)"
   ]
  },
  {
   "cell_type": "markdown",
   "id": "be8011e6-4911-48d5-96bc-aa27150672d4",
   "metadata": {},
   "source": [
    "---------------"
   ]
  },
  {
   "cell_type": "code",
   "execution_count": null,
   "id": "8c0e6378-b1c1-4318-95c0-bdb5a5360f56",
   "metadata": {},
   "outputs": [],
   "source": []
  },
  {
   "cell_type": "code",
   "execution_count": null,
   "id": "c5606a61-872c-41d3-a24c-a08a77860fa2",
   "metadata": {},
   "outputs": [],
   "source": []
  },
  {
   "cell_type": "code",
   "execution_count": null,
   "id": "bf3f1240-0176-40d6-ab2b-5d1a543572eb",
   "metadata": {},
   "outputs": [],
   "source": []
  },
  {
   "cell_type": "markdown",
   "id": "12b1449a-0f1b-46d9-87cd-86c84de01420",
   "metadata": {},
   "source": [
    "## Foursquare API"
   ]
  },
  {
   "cell_type": "code",
   "execution_count": 70,
   "id": "e95424cc-fd41-4f52-9d04-fb73a5426716",
   "metadata": {},
   "outputs": [],
   "source": [
    "def get_foursquare_place(ll, radius, categories):\n",
    "    url = 'https://api.foursquare.com/v3/places/search?'\n",
    "    url = url + 'll='+ll\n",
    "    url = url + '&radius='+radius\n",
    "    url = url + '&categories='+categories\n",
    "    url = url + '&fields=fsq_id,name,geocodes,location,categories,related_places,timezone,description,tel,fax,email,website,social_media,hours,hours_popular,rating,stats,popularity,price,menu,photos,tips,tastes'\n",
    "    url = url + '&limit=50'\n",
    "\n",
    "    headers = {\n",
    "        'Accept': 'application/json',\n",
    "        'Authorization': foursquare_api_key\n",
    "    }\n",
    "\n",
    "    res = requests.request(\"GET\", url, headers=headers)\n",
    "\n",
    "    return res.json()"
   ]
  },
  {
   "cell_type": "code",
   "execution_count": 71,
   "id": "8923f75f-7d48-431f-9dd3-17d8005d43f8",
   "metadata": {},
   "outputs": [],
   "source": [
    "def collect_foursquare_place(categories):\n",
    "    for category in categories:\n",
    "        result = get_foursquare_place(ll, radius, category['foursquare'])\n",
    "\n",
    "        for i in result['results']:\n",
    "            record = ['foursquare']\n",
    "            record.append(i['fsq_id'])\n",
    "            record.append(i['name'])\n",
    "            record.append(i['location']['formatted_address'])\n",
    "            record.append(i['location']['region'])\n",
    "            record.append(i['location']['locality'])\n",
    "            record.append(i['location']['country'])\n",
    "            record.append(i['location']['postcode'] if 'postcode' in i['location'] else '')\n",
    "            record.append(i['timezone'] if 'timezone' in i else '')\n",
    "            record.append(float(i['geocodes']['main']['latitude']))\n",
    "            record.append(float(i['geocodes']['main']['longitude']))\n",
    "            record.append(i['tel'] if 'tel' in i else '')\n",
    "            record.append('')\n",
    "            record.append(i['email'] if 'email' in i else '')\n",
    "            record.append(str(i['social_media'] if 'social_media' in i else '') )\n",
    "            record.append('False' if i['hours']['open_now'] else 'True')\n",
    "            record.append(i['website'] if 'website' in i else '')\n",
    "            record.append('')\n",
    "            if 'stats' in i:\n",
    "                if 'total_ratings' in i['stats']:\n",
    "                    record.append(i['stats']['total_ratings'])\n",
    "                else:\n",
    "                    record.append('')\n",
    "            else:\n",
    "                record.append('')\n",
    "            record.append(i['rating'] if 'rating' in i else '')\n",
    "            record.append(i['price'] if 'price' in i else '')\n",
    "\n",
    "            insert_poi_info_reccord(connection, tuple(record))\n",
    "\n",
    "\n",
    "\n",
    "            record = ('foursquare', i['fsq_id'], category['poi_system'])\n",
    "            insert_poi_category_record(connection, record)\n",
    "\n",
    "\n",
    "\n",
    "            if 'hours' in i:\n",
    "                if 'regular' in i['hours']:\n",
    "                    for h in i['hours']['regular']:\n",
    "                        record = ('foursquare', i['fsq_id'], h['day'], int(h['open']), int(h['close']))\n",
    "                        insert_poi_opening_hours_record(connection, record)\n",
    "\n",
    "categories\n",
    "\n",
    "            if 'hours_popular' in i:\n",
    "                for h in i['hours_popular']:\n",
    "                    record = ('foursquare', i['fsq_id'], h['day'], int(h['open']), int(h['close']))\n",
    "                    insert_poi_hours_popular_record(connection, record)\n",
    "\n",
    "\n",
    "            if 'parent' in i['related_places']:\n",
    "                record = ('foursquare', i['fsq_id'], i['related_places']['parent']['fsq_id'], i['related_places']['parent']['name'])\n",
    "                insert_poi_related_places_record(connection, record)\n",
    "\n",
    "\n",
    "            for t in i['tips']:\n",
    "                record = ('foursquare', i['fsq_id'], '', '', t['created_at'], t['text'])\n",
    "                insert_poi_reviews_record(connection, record)"
   ]
  },
  {
   "cell_type": "code",
   "execution_count": null,
   "id": "797dd654-27fd-4565-8e7d-fafa8676cad8",
   "metadata": {},
   "outputs": [],
   "source": [
    "collect_foursquare_place(categories)"
   ]
  },
  {
   "cell_type": "code",
   "execution_count": null,
   "id": "ae11df04-0164-4260-aec5-3f8539c16de9",
   "metadata": {},
   "outputs": [],
   "source": []
  },
  {
   "cell_type": "code",
   "execution_count": null,
   "id": "afebf945-d24d-4d78-8c94-d7078bfd4342",
   "metadata": {},
   "outputs": [],
   "source": []
  },
  {
   "cell_type": "markdown",
   "id": "16592836-9f36-477b-8df0-1791d17f7e4c",
   "metadata": {},
   "source": [
    "## YELP API"
   ]
  },
  {
   "cell_type": "code",
   "execution_count": 75,
   "id": "1901b10f-3896-4f72-bc4d-a06ad4bf2ad2",
   "metadata": {},
   "outputs": [],
   "source": [
    "def get_yelp_business(latitude, longitude, radius, categories):\n",
    "    url = 'https://api.yelp.com/v3/businesses/search?'\n",
    "    url = url + 'categories=' + categories\n",
    "    url = url + '&latitude=' + latitude\n",
    "    url = url + '&longitude=' + longitude\n",
    "    url = url + '&radius=' + radius\n",
    "    url = url + '&limit=50'\n",
    "\n",
    "    headers = {\n",
    "        'Accept': 'application/json',\n",
    "        'Authorization': 'Bearer %s' % yelp_api_key\n",
    "    }\n",
    "\n",
    "    res = requests.request(\"GET\", url, headers=headers)\n",
    "\n",
    "    return res.json()\n",
    "\n",
    "def get_yelp_business_details(yelp_id):\n",
    "    url = 'https://api.yelp.com/v3/businesses/'\n",
    "    url = url + yelp_id\n",
    "    \n",
    "    headers = {\n",
    "        'Accept': 'application/json',\n",
    "        'Authorization': 'Bearer %s' % yelp_api_key\n",
    "    }\n",
    "\n",
    "    res = requests.request(\"GET\", url, headers=headers)\n",
    "\n",
    "    return res.json()\n",
    "\n",
    "\n",
    "def get_yelp_reviews(yelp_id):\n",
    "    url = 'https://api.yelp.com/v3/businesses/'\n",
    "    url = url + yelp_id + '/reviews'\n",
    "    \n",
    "    headers = {\n",
    "        'Accept': 'application/json',\n",
    "        'Authorization': 'Bearer %s' % yelp_api_key\n",
    "    }\n",
    "\n",
    "    res = requests.request(\"GET\", url, headers=headers)\n",
    "\n",
    "    return res.json()\n",
    "\n",
    "#result = get_yelp_business(latitude, longitude, radius, categories[0]['yelp'])\n",
    "#yresult = get_yelp_business_details(result['businesses'][0]['id'])"
   ]
  },
  {
   "cell_type": "code",
   "execution_count": 78,
   "id": "8d6e6468-c1b2-4017-975e-d303b87b6e3f",
   "metadata": {},
   "outputs": [],
   "source": [
    "def collect_yelp_business(categories):\n",
    "    for category in categories:\n",
    "        resultid = get_yelp_business(latitude, longitude, radius, category['yelp'])\n",
    "        \n",
    "        for result in resultid['businesses']:\n",
    "            i = get_yelp_business_details(result['id'])\n",
    "            \n",
    "            record = ['yelp']\n",
    "            record.append(i['id'] if 'id' in i else result['id'])\n",
    "            record.append(i['name'])\n",
    "            record.append(str(i['location']['display_address']))\n",
    "            record.append(i['location']['state'])\n",
    "            record.append(i['location']['city'])\n",
    "            record.append(i['location']['country'])\n",
    "            record.append(i['location']['zip_code'])\n",
    "            record.append('')\n",
    "            record.append(float(i['coordinates']['latitude']))\n",
    "            record.append(float(i['coordinates']['longitude']))\n",
    "            record.append(i['phone'] if 'phone' in i else '')\n",
    "            record.append('')\n",
    "            record.append(i['email'] if 'email' in i else '')\n",
    "            record.append('')\n",
    "            record.append(str(i['is_closed']) if 'is_closed' in i else 'True')\n",
    "            record.append(i['url'] if 'url' in i else '')\n",
    "            record.append(i['image_url'] if 'image_url' in i else '')\n",
    "            record.append(i['review_count'] if 'review_count' in i else '')\n",
    "            record.append(i['rating'] if 'rating' in i else '')\n",
    "            record.append(i['price'] if 'price' in i else '')\n",
    "            \n",
    "            insert_poi_info_reccord(connection, tuple(record))\n",
    "            \n",
    "            \n",
    "            record = ('yelp', i['id'], category['poi_system'])\n",
    "            insert_poi_category_record(connection, record)\n",
    "\n",
    "\n",
    "            if 'hours' in i:\n",
    "                if 'open' in i['hours'][0]:\n",
    "                    for h in i['hours'][0]['open']:\n",
    "                        record = ('yelp', i['id'], h['day'], int(h['start']), int(h['end']))\n",
    "                        insert_poi_opening_hours_record(connection, record)\n",
    "\n",
    "                        \n",
    "            review = get_yelp_reviews(result['id'])\n",
    "            for t in review['reviews']:\n",
    "                record = ('yelp', i['id'], '', t['rating'], t['time_created'], t['text'])\n",
    "                insert_poi_reviews_record(connection, record)"
   ]
  },
  {
   "cell_type": "code",
   "execution_count": null,
   "id": "f1e002d2-4523-4fde-a439-aa132a4346d2",
   "metadata": {},
   "outputs": [],
   "source": [
    "collect_yelp_business(categories)"
   ]
  },
  {
   "cell_type": "code",
   "execution_count": null,
   "id": "a83a3d52-9995-4a18-8891-206ec4b045c0",
   "metadata": {},
   "outputs": [],
   "source": []
  },
  {
   "cell_type": "code",
   "execution_count": null,
   "id": "689a8fad-601b-436e-a0b9-d0cb09920c96",
   "metadata": {},
   "outputs": [],
   "source": []
  },
  {
   "cell_type": "markdown",
   "id": "f424bfaf-94ef-4e56-8b60-67f032e2cddb",
   "metadata": {},
   "source": [
    "## Google API"
   ]
  },
  {
   "cell_type": "code",
   "execution_count": 149,
   "id": "6cdabc12-421a-4602-a87f-67cad2b8585a",
   "metadata": {},
   "outputs": [],
   "source": [
    "def get_google_place(ll, radius, categories):\n",
    "    url = 'https://maps.googleapis.com/maps/api/place/nearbysearch/json?'\n",
    "    #url = url + 'keyword=cruise'\n",
    "    url = url + 'keyword=' + categories\n",
    "    url = url + '&location=' + ll\n",
    "    url = url + '&radius=' + radius\n",
    "    url = url + '&type=' + categories\n",
    "    url = url + '&key=' + google_api_key\n",
    "\n",
    "    payload = {}\n",
    "    headers = {}\n",
    "\n",
    "    res = requests.request(\"GET\", url, headers=headers, data=payload)\n",
    "\n",
    "    return res.json()\n",
    "\n",
    "def get_google_place_next_page(ll, radius, categories, pagetoken):\n",
    "    url = 'https://maps.googleapis.com/maps/api/place/nearbysearch/json?'\n",
    "    url = url + 'keyword=' + categories\n",
    "    url = url + '&location=' + ll\n",
    "    url = url + '&radius=' + radius\n",
    "    url = url + '&type=' + categories\n",
    "    url = url + '&pagetoken=' + pagetoken\n",
    "    url = url + '&key=' + google_api_key\n",
    "\n",
    "    payload = {}\n",
    "    headers = {}\n",
    "\n",
    "    res = requests.request(\"GET\", url, headers=headers, data=payload)\n",
    "\n",
    "    return res.json()\n",
    "\n",
    "def get_google_place_details(google_place_id):\n",
    "    url = 'https://maps.googleapis.com/maps/api/place/details/json?'\n",
    "    url = url + 'place_id=' + google_place_id\n",
    "    url = url + '&key=' + google_api_key\n",
    "\n",
    "    payload = {}\n",
    "    headers = {}\n",
    "\n",
    "    res = requests.request(\"GET\", url, headers=headers, data=payload)\n",
    "\n",
    "    return res.json()"
   ]
  },
  {
   "cell_type": "code",
   "execution_count": 153,
   "id": "ab588390-2df1-4eb5-830d-9a503b06fa67",
   "metadata": {},
   "outputs": [],
   "source": [
    "def collect_google_place(categories):\n",
    "    for category in categories:\n",
    "        resultid = get_google_place(ll, radius, category['google'])\n",
    "        #resultid = get_google_place(ll, radius, 'restaurant')\n",
    "        \n",
    "        for result in resultid['results']:\n",
    "            i = get_google_place_details(result['place_id'])['result']\n",
    "            \n",
    "            record = ['google']\n",
    "            record.append(i['place_id'])\n",
    "            record.append(i['name'])\n",
    "            record.append(i['formatted_address'] if 'formatted_address' in i else '')\n",
    "            province = ''\n",
    "            city = ''\n",
    "            country = ''\n",
    "            postal_code = ''\n",
    "            for a in i['address_components']:                \n",
    "                if 'locality' == a['types'][0]:\n",
    "                    city = a['short_name']\n",
    "                elif 'administrative_area_level_1' == a['types'][0]:\n",
    "                    province = a['short_name']\n",
    "                elif 'country' == a['types'][0]:\n",
    "                    country = a['short_name']\n",
    "                elif 'postal_code' == a['types'][0]:\n",
    "                    postal_code = a['short_name']\n",
    "            record.append(province)\n",
    "            record.append(city)\n",
    "            record.append(country)\n",
    "            record.append(postal_code)\n",
    "            record.append(i['utc_offset'] if 'utc_offset' in i else '')\n",
    "            record.append(float(i['geometry']['location']['lat']))\n",
    "            record.append(float(i['geometry']['location']['lng']))\n",
    "            record.append(i['formatted_phone_number'] if 'formatted_phone_number' in i else '')\n",
    "            record.append('')\n",
    "            record.append('')\n",
    "            record.append('')\n",
    "            record.append('False' if i['business_status'] == 'OPERATIONAL' else 'True')\n",
    "            record.append(i['website'] if 'website' in i else '')\n",
    "            record.append('')\n",
    "            record.append(i['user_ratings_total'] if 'user_ratings_total' in i else '')\n",
    "            record.append(i['rating'] if 'rating' in i else '')\n",
    "            record.append(i['price_level'] if 'price_level' in i else '')\n",
    "            \n",
    "            insert_poi_info_reccord(connection, tuple(record))\n",
    "            \n",
    "            \n",
    "            \n",
    "            record = ('google', i['place_id'], category['poi_system'])\n",
    "            #record = ('google', i['place_id'], 'restaurant')\n",
    "            insert_poi_category_record(connection, record)\n",
    "            \n",
    "            \n",
    "            \n",
    "            if 'opening_hours' in i:\n",
    "                if 'periods' in i['opening_hours']:\n",
    "                    for h in i['opening_hours']['periods']:\n",
    "                        if 'open' in h and 'close' in h:\n",
    "                            record = ('google', i['place_id'], h['open']['day'], int(h['open']['time']), int(h['close']['time']))\n",
    "                            insert_poi_opening_hours_record(connection, record)\n",
    "            \n",
    "            if 'reviews' in i:\n",
    "                for r in i['reviews']:\n",
    "                    record = ('google', i['place_id'], r['author_name'], r['rating'], r['time'], r['text'])\n",
    "                    insert_poi_reviews_record(connection, record)\n",
    "                    \n",
    "        \n",
    "        \n",
    "        \n",
    "        \n",
    "        \n",
    "        \n",
    "        if 'next_page_token' in resultid:\n",
    "            resultid = get_google_place_next_page(ll, radius, category['google'], resultid['next_page_token'])\n",
    "            #resultid = get_google_place(ll, radius, 'restaurant')\n",
    "\n",
    "            for result in resultid['results']:\n",
    "                i = get_google_place_details(result['place_id'])['result']\n",
    "\n",
    "                record = ['google']\n",
    "                record.append(i['place_id'])\n",
    "                record.append(i['name'])\n",
    "                record.append(i['formatted_address'] if 'formatted_address' in i else '')\n",
    "                province = ''\n",
    "                city = ''\n",
    "                country = ''\n",
    "                postal_code = ''\n",
    "                for a in i['address_components']:                \n",
    "                    if 'locality' == a['types'][0]:\n",
    "                        city = a['short_name']\n",
    "                    elif 'administrative_area_level_1' == a['types'][0]:\n",
    "                        province = a['short_name']\n",
    "                    elif 'country' == a['types'][0]:\n",
    "                        country = a['short_name']\n",
    "                    elif 'postal_code' == a['types'][0]:\n",
    "                        postal_code = a['short_name']\n",
    "                record.append(province)\n",
    "                record.append(city)\n",
    "                record.append(country)\n",
    "                record.append(postal_code)\n",
    "                record.append(i['utc_offset'] if 'utc_offset' in i else '')\n",
    "                record.append(float(i['geometry']['location']['lat']))\n",
    "                record.append(float(i['geometry']['location']['lng']))\n",
    "                record.append(i['formatted_phone_number'] if 'formatted_phone_number' in i else '')\n",
    "                record.append('')\n",
    "                record.append('')\n",
    "                record.append('')\n",
    "                record.append('False' if i['business_status'] == 'OPERATIONAL' else 'True')\n",
    "                record.append(i['website'] if 'website' in i else '')\n",
    "                record.append('')\n",
    "                record.append(i['user_ratings_total'] if 'user_ratings_total' in i else '')\n",
    "                record.append(i['rating'] if 'rating' in i else '')\n",
    "                record.append(i['price_level'] if 'price_level' in i else '')\n",
    "\n",
    "                insert_poi_info_reccord(connection, tuple(record))\n",
    "\n",
    "\n",
    "\n",
    "                record = ('google', i['place_id'], category['poi_system'])\n",
    "                #record = ('google', i['place_id'], 'restaurant')\n",
    "                insert_poi_category_record(connection, record)\n",
    "\n",
    "\n",
    "\n",
    "                if 'opening_hours' in i:\n",
    "                    if 'periods' in i['opening_hours']:\n",
    "                        for h in i['opening_hours']['periods']:\n",
    "                            if 'open' in h and 'close' in h:\n",
    "                                record = ('google', i['place_id'], h['open']['day'], int(h['open']['time']), int(h['close']['time']))\n",
    "                                insert_poi_opening_hours_record(connection, record)\n",
    "\n",
    "                if 'reviews' in i:\n",
    "                    for r in i['reviews']:\n",
    "                        record = ('google', i['place_id'], r['author_name'], r['rating'], r['time'], r['text'])\n",
    "                        insert_poi_reviews_record(connection, record)\n",
    "                        \n",
    "        \n",
    "        \n",
    "        \n",
    "        \n",
    "        \n",
    "        if 'next_page_token' in resultid:\n",
    "            resultid = get_google_place_next_page(ll, radius, category['google'], resultid['next_page_token'])\n",
    "            #resultid = get_google_place(ll, radius, 'restaurant')\n",
    "\n",
    "            for result in resultid['results']:\n",
    "                i = get_google_place_details(result['place_id'])['result']\n",
    "\n",
    "                record = ['google']\n",
    "                record.append(i['place_id'])\n",
    "                record.append(i['name'])\n",
    "                record.append(i['formatted_address'] if 'formatted_address' in i else '')\n",
    "                province = ''\n",
    "                city = ''\n",
    "                country = ''\n",
    "                postal_code = ''\n",
    "                for a in i['address_components']:                \n",
    "                    if 'locality' == a['types'][0]:\n",
    "                        city = a['short_name']\n",
    "                    elif 'administrative_area_level_1' == a['types'][0]:\n",
    "                        province = a['short_name']\n",
    "                    elif 'country' == a['types'][0]:\n",
    "                        country = a['short_name']\n",
    "                    elif 'postal_code' == a['types'][0]:\n",
    "                        postal_code = a['short_name']\n",
    "                record.append(province)\n",
    "                record.append(city)\n",
    "                record.append(country)\n",
    "                record.append(postal_code)\n",
    "                record.append(i['utc_offset'] if 'utc_offset' in i else '')\n",
    "                record.append(float(i['geometry']['location']['lat']))\n",
    "                record.append(float(i['geometry']['location']['lng']))\n",
    "                record.append(i['formatted_phone_number'] if 'formatted_phone_number' in i else '')\n",
    "                record.append('')\n",
    "                record.append('')\n",
    "                record.append('')\n",
    "                record.append('False' if i['business_status'] == 'OPERATIONAL' else 'True')\n",
    "                record.append(i['website'] if 'website' in i else '')\n",
    "                record.append('')\n",
    "                record.append(i['user_ratings_total'] if 'user_ratings_total' in i else '')\n",
    "                record.append(i['rating'] if 'rating' in i else '')\n",
    "                record.append(i['price_level'] if 'price_level' in i else '')\n",
    "\n",
    "                insert_poi_info_reccord(connection, tuple(record))\n",
    "\n",
    "\n",
    "\n",
    "                record = ('google', i['place_id'], category['poi_system'])\n",
    "                #record = ('google', i['place_id'], 'restaurant')\n",
    "                insert_poi_category_record(connection, record)\n",
    "\n",
    "\n",
    "\n",
    "                if 'opening_hours' in i:\n",
    "                    if 'periods' in i['opening_hours']:\n",
    "                        for h in i['opening_hours']['periods']:\n",
    "                            if 'open' in h and 'close' in h:\n",
    "                                record = ('google', i['place_id'], h['open']['day'], int(h['open']['time']), int(h['close']['time']))\n",
    "                                insert_poi_opening_hours_record(connection, record)\n",
    "\n",
    "                if 'reviews' in i:\n",
    "                    for r in i['reviews']:\n",
    "                        record = ('google', i['place_id'], r['author_name'], r['rating'], r['time'], r['text'])\n",
    "                        insert_poi_reviews_record(connection, record)\n",
    "                    \n",
    "            "
   ]
  },
  {
   "cell_type": "code",
   "execution_count": null,
   "id": "0b16a543-36cb-4da1-b68b-3a91157d3f31",
   "metadata": {},
   "outputs": [],
   "source": [
    "collect_google_place(categories)"
   ]
  },
  {
   "cell_type": "code",
   "execution_count": null,
   "id": "8412097d-a5b2-44f9-b798-56820d7b2cab",
   "metadata": {},
   "outputs": [],
   "source": []
  },
  {
   "cell_type": "code",
   "execution_count": null,
   "id": "2c42fe65-3553-48d5-be66-f60f50a67c8a",
   "metadata": {},
   "outputs": [],
   "source": []
  },
  {
   "cell_type": "code",
   "execution_count": null,
   "id": "7140da1b-3fd6-4783-beb4-ce1c8a902ad4",
   "metadata": {},
   "outputs": [],
   "source": []
  },
  {
   "cell_type": "code",
   "execution_count": null,
   "id": "ef68fee8-944f-41ab-80fd-ddc32cb7de6b",
   "metadata": {},
   "outputs": [],
   "source": []
  },
  {
   "cell_type": "markdown",
   "id": "45ded9a0-8a51-405f-9f9c-b9613006f0da",
   "metadata": {},
   "source": [
    "## Analysis"
   ]
  },
  {
   "cell_type": "code",
   "execution_count": 87,
   "id": "29de3277-09ca-41ff-a841-318e3e890e50",
   "metadata": {},
   "outputs": [],
   "source": [
    "plt.rcParams['figure.dpi'] = 150\n",
    "plt.rcParams['savefig.dpi'] = 150"
   ]
  },
  {
   "cell_type": "code",
   "execution_count": 10,
   "id": "4f24e503-f36e-41c8-b491-5d45389a3af3",
   "metadata": {},
   "outputs": [],
   "source": [
    "# select_poi_info = \"SELECT * from poi_info LIMIT 10\"\n",
    "# pois = execute_read_query(connection, select_poi_info)\n",
    "\n",
    "# for poi in pois:\n",
    "#     print(poi)"
   ]
  },
  {
   "cell_type": "code",
   "execution_count": 88,
   "id": "fcf3e4c6-915f-4736-9f9b-77262888deca",
   "metadata": {},
   "outputs": [
    {
     "data": {
      "image/png": "[encoded data removed]",
      "text/plain": [
       "<Figure size 900x600 with 1 Axes>"
      ]
     },
     "metadata": {
      "needs_background": "light"
     },
     "output_type": "display_data"
    }
   ],
   "source": [
    "select_poi_info = \"\"\"\n",
    "SELECT api AS API, count(*) AS \"Total POIs\"\n",
    "FROM poi_info\n",
    "GROUP BY api;\n",
    "\"\"\"\n",
    "df = pd.read_sql_query(select_poi_info, connection)\n",
    "ax = df.plot.bar('API')"
   ]
  },
  {
   "cell_type": "code",
   "execution_count": 31,
   "id": "bfd41a61-a0d4-4ed4-8a88-b608cd7ff39e",
   "metadata": {},
   "outputs": [
    {
     "data": {
      "text/html": [
       "<div>\n",
       "<style scoped>\n",
       "    .dataframe tbody tr th:only-of-type {\n",
       "        vertical-align: middle;\n",
       "    }\n",
       "\n",
       "    .dataframe tbody tr th {\n",
       "        vertical-align: top;\n",
       "    }\n",
       "\n",
       "    .dataframe thead th {\n",
       "        text-align: right;\n",
       "    }\n",
       "</style>\n",
       "<table border=\"1\" class=\"dataframe\">\n",
       "  <thead>\n",
       "    <tr style=\"text-align: right;\">\n",
       "      <th></th>\n",
       "      <th>API</th>\n",
       "      <th>Total POIs</th>\n",
       "    </tr>\n",
       "  </thead>\n",
       "  <tbody>\n",
       "    <tr>\n",
       "      <th>0</th>\n",
       "      <td>foursquare</td>\n",
       "      <td>1051</td>\n",
       "    </tr>\n",
       "    <tr>\n",
       "      <th>1</th>\n",
       "      <td>google</td>\n",
       "      <td>589</td>\n",
       "    </tr>\n",
       "    <tr>\n",
       "      <th>2</th>\n",
       "      <td>yelp</td>\n",
       "      <td>491</td>\n",
       "    </tr>\n",
       "  </tbody>\n",
       "</table>\n",
       "</div>"
      ],
      "text/plain": [
       "          API  Total POIs\n",
       "0  foursquare        1051\n",
       "1      google         589\n",
       "2        yelp         491"
      ]
     },
     "execution_count": 31,
     "metadata": {},
     "output_type": "execute_result"
    }
   ],
   "source": [
    "df"
   ]
  },
  {
   "cell_type": "code",
   "execution_count": null,
   "id": "88bafb29-a11a-4590-9d12-75fe56174328",
   "metadata": {},
   "outputs": [],
   "source": []
  },
  {
   "cell_type": "code",
   "execution_count": null,
   "id": "af10cbd9-b76a-4c61-a125-4cd50c332a33",
   "metadata": {},
   "outputs": [],
   "source": []
  },
  {
   "cell_type": "code",
   "execution_count": 89,
   "id": "f2be6576-c9f8-4376-bea4-b7240b3a301c",
   "metadata": {},
   "outputs": [
    {
     "data": {
      "image/png": "[encoded data removed]",
      "text/plain": [
       "<Figure size 900x600 with 1 Axes>"
      ]
     },
     "metadata": {
      "needs_background": "light"
     },
     "output_type": "display_data"
    }
   ],
   "source": [
    "select_poi_info = \"\"\"\n",
    "SELECT category, count(*) AS \"Total POIs\"\n",
    "FROM poi_category\n",
    "GROUP BY category;\n",
    "\"\"\"\n",
    "df = pd.read_sql_query(select_poi_info, connection)\n",
    "ax = df.plot.bar('category')"
   ]
  },
  {
   "cell_type": "code",
   "execution_count": 72,
   "id": "e74c1fbc-db32-4da8-b383-3d8f1d8330ad",
   "metadata": {},
   "outputs": [
    {
     "data": {
      "text/html": [
       "<div>\n",
       "<style scoped>\n",
       "    .dataframe tbody tr th:only-of-type {\n",
       "        vertical-align: middle;\n",
       "    }\n",
       "\n",
       "    .dataframe tbody tr th {\n",
       "        vertical-align: top;\n",
       "    }\n",
       "\n",
       "    .dataframe thead th {\n",
       "        text-align: right;\n",
       "    }\n",
       "</style>\n",
       "<table border=\"1\" class=\"dataframe\">\n",
       "  <thead>\n",
       "    <tr style=\"text-align: right;\">\n",
       "      <th></th>\n",
       "      <th>category</th>\n",
       "      <th>Total POIs</th>\n",
       "    </tr>\n",
       "  </thead>\n",
       "  <tbody>\n",
       "    <tr>\n",
       "      <th>0</th>\n",
       "      <td>banks</td>\n",
       "      <td>197</td>\n",
       "    </tr>\n",
       "    <tr>\n",
       "      <th>1</th>\n",
       "      <td>bars</td>\n",
       "      <td>277</td>\n",
       "    </tr>\n",
       "    <tr>\n",
       "      <th>2</th>\n",
       "      <td>bookstores</td>\n",
       "      <td>61</td>\n",
       "    </tr>\n",
       "    <tr>\n",
       "      <th>3</th>\n",
       "      <td>cafes</td>\n",
       "      <td>421</td>\n",
       "    </tr>\n",
       "    <tr>\n",
       "      <th>4</th>\n",
       "      <td>cinemas</td>\n",
       "      <td>281</td>\n",
       "    </tr>\n",
       "    <tr>\n",
       "      <th>5</th>\n",
       "      <td>gyms</td>\n",
       "      <td>108</td>\n",
       "    </tr>\n",
       "    <tr>\n",
       "      <th>6</th>\n",
       "      <td>health</td>\n",
       "      <td>408</td>\n",
       "    </tr>\n",
       "    <tr>\n",
       "      <th>7</th>\n",
       "      <td>parking</td>\n",
       "      <td>118</td>\n",
       "    </tr>\n",
       "    <tr>\n",
       "      <th>8</th>\n",
       "      <td>restaurants</td>\n",
       "      <td>856</td>\n",
       "    </tr>\n",
       "  </tbody>\n",
       "</table>\n",
       "</div>"
      ],
      "text/plain": [
       "      category  Total POIs\n",
       "0        banks         197\n",
       "1         bars         277\n",
       "2   bookstores          61\n",
       "3        cafes         421\n",
       "4      cinemas         281\n",
       "5         gyms         108\n",
       "6       health         408\n",
       "7      parking         118\n",
       "8  restaurants         856"
      ]
     },
     "execution_count": 72,
     "metadata": {},
     "output_type": "execute_result"
    }
   ],
   "source": [
    "df"
   ]
  },
  {
   "cell_type": "code",
   "execution_count": null,
   "id": "64be2271-ff07-452f-bae6-15c89c61b051",
   "metadata": {},
   "outputs": [],
   "source": []
  },
  {
   "cell_type": "code",
   "execution_count": null,
   "id": "d561daa3-ce7c-460a-9cef-58325a5fa33b",
   "metadata": {},
   "outputs": [],
   "source": []
  },
  {
   "cell_type": "code",
   "execution_count": null,
   "id": "181d71d9-ef9f-4792-8e2e-096c143e8639",
   "metadata": {},
   "outputs": [],
   "source": []
  },
  {
   "cell_type": "code",
   "execution_count": 77,
   "id": "7a71988c-7dde-457a-9b4d-ad4b52d42201",
   "metadata": {},
   "outputs": [],
   "source": [
    "select_poi_info = \"\"\"\n",
    "SELECT category, count(*) AS total_poi\n",
    "FROM poi_category\n",
    "WHERE api = 'foursquare'\n",
    "GROUP BY category\n",
    "ORDER BY category;\n",
    "\"\"\"\n",
    "df = pd.read_sql_query(select_poi_info, connection)\n",
    "foursquare = df['total_poi']"
   ]
  },
  {
   "cell_type": "code",
   "execution_count": 78,
   "id": "434437e7-77aa-41f6-ad53-9e734bed61ed",
   "metadata": {},
   "outputs": [],
   "source": [
    "select_poi_info = \"\"\"\n",
    "SELECT category, count(*) AS total_poi\n",
    "FROM poi_category\n",
    "WHERE api = 'yelp'\n",
    "GROUP BY category\n",
    "ORDER BY category;\n",
    "\"\"\"\n",
    "df = pd.read_sql_query(select_poi_info, connection)\n",
    "yelp = df['total_poi']"
   ]
  },
  {
   "cell_type": "code",
   "execution_count": 79,
   "id": "0e5e2799-1976-4a64-87e8-55d70608e4bf",
   "metadata": {},
   "outputs": [],
   "source": [
    "select_poi_info = \"\"\"\n",
    "SELECT category, count(*) AS total_poi\n",
    "FROM poi_category\n",
    "WHERE api = 'google'\n",
    "GROUP BY category\n",
    "ORDER BY category;\n",
    "\"\"\"\n",
    "df = pd.read_sql_query(select_poi_info, connection)\n",
    "google = df['total_poi']"
   ]
  },
  {
   "cell_type": "code",
   "execution_count": 80,
   "id": "03dcc4a3-ec62-4fe8-b129-f9890c705e5a",
   "metadata": {},
   "outputs": [],
   "source": [
    "select_poi_info = \"\"\"\n",
    "SELECT DISTINCT category\n",
    "FROM poi_category\n",
    "ORDER BY category;\n",
    "\"\"\"\n",
    "df = pd.read_sql_query(select_poi_info, connection)\n",
    "index = df['category']"
   ]
  },
  {
   "cell_type": "code",
   "execution_count": 91,
   "id": "29d02355-9745-4c91-b3f8-5f56b561ec58",
   "metadata": {},
   "outputs": [
    {
     "data": {
      "image/png": "[encoded data removed]",
      "text/plain": [
       "<Figure size 900x600 with 1 Axes>"
      ]
     },
     "metadata": {
      "needs_background": "light"
     },
     "output_type": "display_data"
    }
   ],
   "source": [
    "df = pd.DataFrame({'Category': index, 'foursquare': foursquare,'yelp': yelp,'google': google})\n",
    "ax = df.plot.bar('Category')"
   ]
  },
  {
   "cell_type": "code",
   "execution_count": null,
   "id": "2a770a69-c549-40e5-8a5b-4e859460a938",
   "metadata": {},
   "outputs": [],
   "source": []
  },
  {
   "cell_type": "code",
   "execution_count": null,
   "id": "c6472ea8-01e9-4244-850f-fc7bd3bf5091",
   "metadata": {},
   "outputs": [],
   "source": []
  },
  {
   "cell_type": "code",
   "execution_count": null,
   "id": "abcfa784-e6e5-4211-90d3-dca0c39c52f8",
   "metadata": {},
   "outputs": [],
   "source": []
  },
  {
   "cell_type": "code",
   "execution_count": 96,
   "id": "f8958199-e2d1-4640-8e9b-1d2f08232612",
   "metadata": {},
   "outputs": [
    {
     "data": {
      "image/png": "[encoded data removed]",
      "text/plain": [
       "<Figure size 900x600 with 1 Axes>"
      ]
     },
     "metadata": {
      "needs_background": "light"
     },
     "output_type": "display_data"
    }
   ],
   "source": [
    "select_poi_info = \"\"\"\n",
    "SELECT api AS API, COUNT(*) AS \"Total Reviews\"\n",
    "FROM poi_reviews\n",
    "GROUP BY api;\n",
    "\"\"\"\n",
    "df = pd.read_sql_query(select_poi_info, connection)\n",
    "ax = df.plot.bar('API')"
   ]
  },
  {
   "cell_type": "code",
   "execution_count": 97,
   "id": "4c21c7be-f563-45b2-abce-a95d2d706d98",
   "metadata": {},
   "outputs": [
    {
     "data": {
      "text/html": [
       "<div>\n",
       "<style scoped>\n",
       "    .dataframe tbody tr th:only-of-type {\n",
       "        vertical-align: middle;\n",
       "    }\n",
       "\n",
       "    .dataframe tbody tr th {\n",
       "        vertical-align: top;\n",
       "    }\n",
       "\n",
       "    .dataframe thead th {\n",
       "        text-align: right;\n",
       "    }\n",
       "</style>\n",
       "<table border=\"1\" class=\"dataframe\">\n",
       "  <thead>\n",
       "    <tr style=\"text-align: right;\">\n",
       "      <th></th>\n",
       "      <th>API</th>\n",
       "      <th>Total Reviews</th>\n",
       "    </tr>\n",
       "  </thead>\n",
       "  <tbody>\n",
       "    <tr>\n",
       "      <th>0</th>\n",
       "      <td>foursquare</td>\n",
       "      <td>1585</td>\n",
       "    </tr>\n",
       "    <tr>\n",
       "      <th>1</th>\n",
       "      <td>google</td>\n",
       "      <td>8551</td>\n",
       "    </tr>\n",
       "    <tr>\n",
       "      <th>2</th>\n",
       "      <td>yelp</td>\n",
       "      <td>4271</td>\n",
       "    </tr>\n",
       "  </tbody>\n",
       "</table>\n",
       "</div>"
      ],
      "text/plain": [
       "          API  Total Reviews\n",
       "0  foursquare           1585\n",
       "1      google           8551\n",
       "2        yelp           4271"
      ]
     },
     "execution_count": 97,
     "metadata": {},
     "output_type": "execute_result"
    }
   ],
   "source": [
    "df"
   ]
  },
  {
   "cell_type": "code",
   "execution_count": null,
   "id": "63708b42-7e28-4f71-a5d6-ded23cb7308d",
   "metadata": {},
   "outputs": [],
   "source": []
  },
  {
   "cell_type": "code",
   "execution_count": 94,
   "id": "fc3c1b2b-204e-418f-9a93-918f40696647",
   "metadata": {},
   "outputs": [
    {
     "data": {
      "image/png": "[encoded data removed]",
      "text/plain": [
       "<Figure size 900x600 with 1 Axes>"
      ]
     },
     "metadata": {
      "needs_background": "light"
     },
     "output_type": "display_data"
    }
   ],
   "source": [
    "select_poi_info = \"\"\"\n",
    "SELECT api AS API, count(*) as \"Total POIs\"\n",
    "FROM\n",
    "(SELECT p.api, p.poi_id, count(*) as total_comment\n",
    "FROM poi_info p, poi_reviews r\n",
    "WHERE p.api = r.api AND p.poi_id = r.poi_id\n",
    "GROUP BY p.api, p.poi_id)\n",
    "GROUP BY api;\n",
    "\"\"\"\n",
    "df = pd.read_sql_query(select_poi_info, connection)\n",
    "ax = df.plot.bar('API')"
   ]
  },
  {
   "cell_type": "code",
   "execution_count": 95,
   "id": "276537a1-fa26-493a-9121-ee67669871a2",
   "metadata": {},
   "outputs": [
    {
     "data": {
      "text/html": [
       "<div>\n",
       "<style scoped>\n",
       "    .dataframe tbody tr th:only-of-type {\n",
       "        vertical-align: middle;\n",
       "    }\n",
       "\n",
       "    .dataframe tbody tr th {\n",
       "        vertical-align: top;\n",
       "    }\n",
       "\n",
       "    .dataframe thead th {\n",
       "        text-align: right;\n",
       "    }\n",
       "</style>\n",
       "<table border=\"1\" class=\"dataframe\">\n",
       "  <thead>\n",
       "    <tr style=\"text-align: right;\">\n",
       "      <th></th>\n",
       "      <th>API</th>\n",
       "      <th>Total POIs</th>\n",
       "    </tr>\n",
       "  </thead>\n",
       "  <tbody>\n",
       "    <tr>\n",
       "      <th>0</th>\n",
       "      <td>foursquare</td>\n",
       "      <td>258</td>\n",
       "    </tr>\n",
       "    <tr>\n",
       "      <th>1</th>\n",
       "      <td>google</td>\n",
       "      <td>520</td>\n",
       "    </tr>\n",
       "    <tr>\n",
       "      <th>2</th>\n",
       "      <td>yelp</td>\n",
       "      <td>491</td>\n",
       "    </tr>\n",
       "  </tbody>\n",
       "</table>\n",
       "</div>"
      ],
      "text/plain": [
       "          API  Total POIs\n",
       "0  foursquare         258\n",
       "1      google         520\n",
       "2        yelp         491"
      ]
     },
     "execution_count": 95,
     "metadata": {},
     "output_type": "execute_result"
    }
   ],
   "source": [
    "df"
   ]
  },
  {
   "cell_type": "code",
   "execution_count": null,
   "id": "09e6c349-04d3-492d-b844-009b11a5bd64",
   "metadata": {},
   "outputs": [],
   "source": []
  },
  {
   "cell_type": "code",
   "execution_count": null,
   "id": "fad2416d-b1c6-4d58-b73e-1b1e20f1029c",
   "metadata": {},
   "outputs": [],
   "source": []
  },
  {
   "cell_type": "code",
   "execution_count": 98,
   "id": "e204b78e-463c-4aa6-bc0c-e7389c6666a7",
   "metadata": {},
   "outputs": [
    {
     "data": {
      "image/png": "[encoded data removed]",
      "text/plain": [
       "<Figure size 900x600 with 1 Axes>"
      ]
     },
     "metadata": {
      "needs_background": "light"
     },
     "output_type": "display_data"
    }
   ],
   "source": [
    "select_poi_info = \"\"\"\n",
    "SELECT api AS API, count(*) as \"Total POIs\"\n",
    "FROM\n",
    "(SELECT p.api, p.poi_id, count(*) as total_comment\n",
    "FROM poi_info p, poi_reviews r\n",
    "WHERE p.api = r.api AND p.poi_id = r.poi_id\n",
    "GROUP BY p.api, p.poi_id)\n",
    "WHERE total_comment > 10\n",
    "GROUP BY api;\n",
    "\"\"\"\n",
    "df = pd.read_sql_query(select_poi_info, connection)\n",
    "ax = df.plot.bar('API')"
   ]
  },
  {
   "cell_type": "code",
   "execution_count": 99,
   "id": "d9a52137-3171-488b-a8a1-7f71383a6951",
   "metadata": {},
   "outputs": [
    {
     "data": {
      "text/html": [
       "<div>\n",
       "<style scoped>\n",
       "    .dataframe tbody tr th:only-of-type {\n",
       "        vertical-align: middle;\n",
       "    }\n",
       "\n",
       "    .dataframe tbody tr th {\n",
       "        vertical-align: top;\n",
       "    }\n",
       "\n",
       "    .dataframe thead th {\n",
       "        text-align: right;\n",
       "    }\n",
       "</style>\n",
       "<table border=\"1\" class=\"dataframe\">\n",
       "  <thead>\n",
       "    <tr style=\"text-align: right;\">\n",
       "      <th></th>\n",
       "      <th>API</th>\n",
       "      <th>Total POIs</th>\n",
       "    </tr>\n",
       "  </thead>\n",
       "  <tbody>\n",
       "    <tr>\n",
       "      <th>0</th>\n",
       "      <td>foursquare</td>\n",
       "      <td>36</td>\n",
       "    </tr>\n",
       "    <tr>\n",
       "      <th>1</th>\n",
       "      <td>google</td>\n",
       "      <td>257</td>\n",
       "    </tr>\n",
       "    <tr>\n",
       "      <th>2</th>\n",
       "      <td>yelp</td>\n",
       "      <td>148</td>\n",
       "    </tr>\n",
       "  </tbody>\n",
       "</table>\n",
       "</div>"
      ],
      "text/plain": [
       "          API  Total POIs\n",
       "0  foursquare          36\n",
       "1      google         257\n",
       "2        yelp         148"
      ]
     },
     "execution_count": 99,
     "metadata": {},
     "output_type": "execute_result"
    }
   ],
   "source": [
    "df"
   ]
  },
  {
   "cell_type": "code",
   "execution_count": null,
   "id": "e9c415c6-dff8-4f46-95f8-999fa047c6a2",
   "metadata": {},
   "outputs": [],
   "source": []
  },
  {
   "cell_type": "code",
   "execution_count": null,
   "id": "050d6a77-2bab-46ac-b249-da793a5a5813",
   "metadata": {},
   "outputs": [],
   "source": []
  },
  {
   "cell_type": "code",
   "execution_count": null,
   "id": "483b5b14-ce34-40db-b8a2-ca59682008e4",
   "metadata": {},
   "outputs": [],
   "source": []
  },
  {
   "cell_type": "code",
   "execution_count": null,
   "id": "9d5aa0a2-6d20-42ff-a0b9-f753e5b676fb",
   "metadata": {},
   "outputs": [],
   "source": []
  },
  {
   "cell_type": "code",
   "execution_count": null,
   "id": "2da59309-b8c5-4a87-8507-449850657111",
   "metadata": {},
   "outputs": [],
   "source": []
  },
  {
   "cell_type": "code",
   "execution_count": null,
   "id": "f5963b25-0872-4af0-9b48-07e8cfdaf082",
   "metadata": {},
   "outputs": [],
   "source": []
  }
 ],
 "metadata": {
  "kernelspec": {
   "display_name": "bootcamp",
   "language": "python",
   "name": "bootcamp"
  },
  "language_info": {
   "codemirror_mode": {
    "name": "ipython",
    "version": 3
   },
   "file_extension": ".py",
   "mimetype": "text/x-python",
   "name": "python",
   "nbconvert_exporter": "python",
   "pygments_lexer": "ipython3",
   "version": "3.9.10"
  }
 },
 "nbformat": 4,
 "nbformat_minor": 5
}
